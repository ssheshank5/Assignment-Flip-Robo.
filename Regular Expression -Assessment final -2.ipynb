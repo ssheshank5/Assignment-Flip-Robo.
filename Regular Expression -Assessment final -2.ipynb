{
 "cells": [
  {
   "cell_type": "code",
   "execution_count": 4,
   "id": "06b9e21d",
   "metadata": {},
   "outputs": [],
   "source": [
    "import regex as re    #1\n"
   ]
  },
  {
   "cell_type": "code",
   "execution_count": 6,
   "id": "64ad6085",
   "metadata": {},
   "outputs": [
    {
     "name": "stdout",
     "output_type": "stream",
     "text": [
      "['e', 'l', 'l', 'o', 'a', 't', 'a', 'c', 'i', 'e', 'n', 'c', 'e']\n"
     ]
    }
   ],
   "source": [
    "string=\"Hello Data Science\"   \n",
    "x=re.findall(\"[a-z]\",string)\n",
    "print(x)"
   ]
  },
  {
   "cell_type": "code",
   "execution_count": 7,
   "id": "dfedff43",
   "metadata": {},
   "outputs": [
    {
     "name": "stdout",
     "output_type": "stream",
     "text": [
      "['H', 'D', 'S']\n"
     ]
    }
   ],
   "source": [
    "string=\"Hello Data Science\"   #1\n",
    "x=re.findall(\"[A-Z]\",string)\n",
    "print(x)"
   ]
  },
  {
   "cell_type": "code",
   "execution_count": 8,
   "id": "44c6612c",
   "metadata": {},
   "outputs": [
    {
     "name": "stdout",
     "output_type": "stream",
     "text": [
      "[]\n"
     ]
    }
   ],
   "source": [
    "string=\"Hello Data Science\"   #1\n",
    "x=re.findall(\"[0-9]\",string)\n",
    "print(x) # It is showing blank its means this is not string"
   ]
  },
  {
   "cell_type": "code",
   "execution_count": 21,
   "id": "9e81ed56",
   "metadata": {},
   "outputs": [
    {
     "name": "stdout",
     "output_type": "stream",
     "text": [
      "The string matches the pattern.\n"
     ]
    }
   ],
   "source": [
    "\n",
    "def match_string(input_string):   #2\n",
    "    pattern = r'ab*'\n",
    "    if re.match(pattern, input_string):\n",
    "        return True\n",
    "    else:\n",
    "        return False\n",
    "\n",
    "# Example usage\n",
    "test_string = \"abb\"\n",
    "if match_string(test_string):\n",
    "    print(\"The string matches the pattern.\")\n",
    "else:\n",
    "    print(\"The string does not match the pattern.\")\n",
    "    "
   ]
  },
  {
   "cell_type": "code",
   "execution_count": 22,
   "id": "154e5c72",
   "metadata": {},
   "outputs": [
    {
     "name": "stdout",
     "output_type": "stream",
     "text": [
      "The string matches the pattern.\n"
     ]
    }
   ],
   "source": [
    "import re            #3\n",
    "\n",
    "def match_string(input_string):\n",
    "    pattern = r'ab+'\n",
    "    if re.match(pattern, input_string):\n",
    "        return True\n",
    "    else:\n",
    "        return False\n",
    "\n",
    "# Example usage\n",
    "test_string = \"abbb\"\n",
    "if match_string(test_string):\n",
    "    print(\"The string matches the pattern.\")\n",
    "else:\n",
    "    print(\"The string does not match the pattern.\")"
   ]
  },
  {
   "cell_type": "code",
   "execution_count": 23,
   "id": "cf10a872",
   "metadata": {},
   "outputs": [
    {
     "name": "stdout",
     "output_type": "stream",
     "text": [
      "The string matches the pattern.\n"
     ]
    }
   ],
   "source": [
    "import re     #4\n",
    "\n",
    "\n",
    "def match_string(input_string):\n",
    "    pattern = r'ab?'\n",
    "    if re.match(pattern, input_string):\n",
    "        return True\n",
    "    else:\n",
    "        return False\n",
    "\n",
    "# Example usage\n",
    "test_string = \"ab\"\n",
    "if match_string(test_string):\n",
    "    print(\"The string matches the pattern.\")\n",
    "else:\n",
    "    print(\"The string does not match the pattern.\")"
   ]
  },
  {
   "cell_type": "code",
   "execution_count": 24,
   "id": "b331b92a",
   "metadata": {},
   "outputs": [
    {
     "name": "stdout",
     "output_type": "stream",
     "text": [
      "The string matches the pattern.\n"
     ]
    }
   ],
   "source": [
    "def match_string(input_string):              #5\n",
    "    pattern = r'ab{3}'\n",
    "    if re.match(pattern, input_string):\n",
    "        return True\n",
    "    else:\n",
    "        return False\n",
    "\n",
    "# Example usage\n",
    "test_string = \"abbb\"\n",
    "if match_string(test_string):\n",
    "    print(\"The string matches the pattern.\")\n",
    "else:\n",
    "    print(\"The string does not match the pattern.\")"
   ]
  },
  {
   "cell_type": "code",
   "execution_count": 25,
   "id": "9d723cfc",
   "metadata": {},
   "outputs": [
    {
     "name": "stdout",
     "output_type": "stream",
     "text": [
      "['', 'Importance', 'Of', 'Regular', 'Expressions', 'In', 'Python']\n"
     ]
    }
   ],
   "source": [
    "def split_string_into_uppercase(input_string):    #6\n",
    "    pattern = r'(?=[A-Z])'\n",
    "    result = re.split(pattern, input_string)\n",
    "    return result\n",
    "\n",
    "# Example usage\n",
    "sample_text = \"ImportanceOfRegularExpressionsInPython\"\n",
    "output = split_string_into_uppercase(sample_text)\n",
    "print(output)"
   ]
  },
  {
   "cell_type": "code",
   "execution_count": 26,
   "id": "6fac6746",
   "metadata": {},
   "outputs": [
    {
     "name": "stdout",
     "output_type": "stream",
     "text": [
      "The string matches the pattern.\n"
     ]
    }
   ],
   "source": [
    "  \n",
    "def match_string(input_string):   #7\n",
    "    pattern = r'ab{2,3}'\n",
    "    if re.match(pattern, input_string):\n",
    "        return True\n",
    "    else:\n",
    "        return False\n",
    "\n",
    "# Example usage\n",
    "test_string = \"abbb\"\n",
    "if match_string(test_string):\n",
    "    print(\"The string matches the pattern.\")\n",
    "else:\n",
    "    print(\"The string does not match the pattern.\")"
   ]
  },
  {
   "cell_type": "code",
   "execution_count": 27,
   "id": "2ec1db15",
   "metadata": {},
   "outputs": [
    {
     "name": "stdout",
     "output_type": "stream",
     "text": [
      "['hello_world', 'is_a', 'foo_bar']\n"
     ]
    }
   ],
   "source": [
    "def find_lowercase_sequences(input_string):  #8\n",
    "    pattern = r'[a-z]+_[a-z]+'\n",
    "    matches = re.findall(pattern, input_string)\n",
    "    return matches\n",
    "\n",
    "# Example usage\n",
    "test_string = \"hello_world is_a_sequence foo_bar\"\n",
    "sequences = find_lowercase_sequences(test_string)\n",
    "print(sequences)"
   ]
  },
  {
   "cell_type": "code",
   "execution_count": 28,
   "id": "16188047",
   "metadata": {},
   "outputs": [
    {
     "name": "stdout",
     "output_type": "stream",
     "text": [
      "The string matches the pattern.\n"
     ]
    }
   ],
   "source": [
    " def match_string(input_string):    #9\n",
    "    pattern = r'a.*b$'\n",
    "    if re.match(pattern, input_string):\n",
    "        return True\n",
    "    else:\n",
    "        return False\n",
    "\n",
    "# Example usage\n",
    "test_string = \"acccb\"\n",
    "if match_string(test_string):\n",
    "    print(\"The string matches the pattern.\")\n",
    "else:\n",
    "    print(\"The string does not match the pattern.\")"
   ]
  },
  {
   "cell_type": "code",
   "execution_count": 46,
   "id": "d41b29e7",
   "metadata": {},
   "outputs": [
    {
     "name": "stdout",
     "output_type": "stream",
     "text": [
      "The word is found at the beginning of the string.\n"
     ]
    }
   ],
   "source": [
    "\n",
    "\n",
    "import re               #10\n",
    "\n",
    "def match_word_at_beginning(input_string, word):\n",
    "    pattern = r'^' + word\n",
    "    if re.match(pattern, input_string):\n",
    "        return True\n",
    "    else:\n",
    "        return False\n",
    "\n",
    "# Example usage\n",
    "test_string = \"Python is a programming language\"\n",
    "word_to_match = \"Python\"\n",
    "if match_word_at_beginning(test_string, word_to_match):\n",
    "    print(\"The word is found at the beginning of the string.\")\n",
    "else:\n",
    "    print(\"The word is not found at the beginning of the string.\")\n",
    "    "
   ]
  },
  {
   "cell_type": "code",
   "execution_count": 47,
   "id": "52f62ef0",
   "metadata": {},
   "outputs": [
    {
     "name": "stdout",
     "output_type": "stream",
     "text": [
      "The string contains only allowed characters.\n"
     ]
    }
   ],
   "source": [
    "import re                 #11\n",
    "\n",
    "def match_allowed_characters(input_string):\n",
    "    pattern = r'^[a-zA-Z0-9_]+$'\n",
    "    if re.match(pattern, input_string):\n",
    "        return True\n",
    "    else:\n",
    "        return False\n",
    "\n",
    "# Example usage\n",
    "test_string = \"AbC123_\"\n",
    "if match_allowed_characters(test_string):\n",
    "    print(\"The string contains only allowed characters.\")\n",
    "else:\n",
    "    print(\"The string contains disallowed characters.\")"
   ]
  },
  {
   "cell_type": "code",
   "execution_count": 48,
   "id": "f6888440",
   "metadata": {},
   "outputs": [
    {
     "name": "stdout",
     "output_type": "stream",
     "text": [
      "The string matches the pattern.\n"
     ]
    }
   ],
   "source": [
    "import re              #12\n",
    "\n",
    "def match_string(input_string):\n",
    "    pattern = r'ab*'\n",
    "    if re.match(pattern, input_string):\n",
    "        return True\n",
    "    else:\n",
    "        return False\n",
    "\n",
    "# Example usage\n",
    "test_string = \"abb\"\n",
    "if match_string(test_string):\n",
    "    print(\"The string matches the pattern.\")\n",
    "else:\n",
    "    print(\"The string does not match the pattern.\")"
   ]
  },
  {
   "cell_type": "code",
   "execution_count": 54,
   "id": "190017aa",
   "metadata": {},
   "outputs": [
    {
     "name": "stdout",
     "output_type": "stream",
     "text": [
      "192.168.1.1\n"
     ]
    }
   ],
   "source": [
    "def remove_leading_zeros(ip_address):            #13\n",
    "    parts = ip_address.split('.')\n",
    "    cleaned_parts = [str(int(part)) for part in parts]\n",
    "    cleaned_ip_address = '.'.join(cleaned_parts)\n",
    "    return cleaned_ip_address\n",
    "\n",
    "# Example usage\n",
    "ip_address = \"192.168.001.001\"\n",
    "cleaned_address = remove_leading_zeros(ip_address)\n",
    "print(cleaned_address)"
   ]
  },
  {
   "cell_type": "code",
   "execution_count": 56,
   "id": "c85e6a1b",
   "metadata": {},
   "outputs": [
    {
     "name": "stdout",
     "output_type": "stream",
     "text": [
      "Date found in the text:\n",
      "August 15th 1947\n"
     ]
    }
   ],
   "source": [
    "import re                #14\n",
    "\n",
    "def extract_dates_from_text(input_text):\n",
    "    pattern = r\"([A-Za-z]+\\s+\\d{1,2}(?:st|nd|rd|th)?\\s+\\d{4})\"\n",
    "    matches = re.findall(pattern, input_text)\n",
    "    return matches\n",
    "\n",
    "# Example usage\n",
    "input_text = \"On August 15th 1947 that India was declared independent from British colonialism, and the reins of control were handed over to the leaders of the Country.\"\n",
    "dates = extract_dates_from_text(input_text)\n",
    "\n",
    "if dates:\n",
    "    print(\"Date found in the text:\")\n",
    "    for date in dates:\n",
    "        print(date)\n",
    "else:\n",
    "    print(\"No date found in the text.\")\n"
   ]
  },
  {
   "cell_type": "code",
   "execution_count": 57,
   "id": "dabc95b6",
   "metadata": {},
   "outputs": [
    {
     "name": "stdout",
     "output_type": "stream",
     "text": [
      "Found words:\n",
      "fox\n",
      "dog\n"
     ]
    }
   ],
   "source": [
    "def search_literals(text, searched_words):             #15\n",
    "    found_words = []\n",
    "\n",
    "    for word in searched_words:\n",
    "        if word in text:\n",
    "            found_words.append(word)\n",
    "\n",
    "    return found_words\n",
    "\n",
    "# Example usage\n",
    "sample_text = 'The quick brown fox jumps over the lazy dog.'\n",
    "searched_words = ['fox', 'dog', 'horse']\n",
    "\n",
    "found_words = search_literals(sample_text, searched_words)\n",
    "\n",
    "print(\"Found words:\")\n",
    "for word in found_words:\n",
    "    print(word)"
   ]
  },
  {
   "cell_type": "code",
   "execution_count": 58,
   "id": "aca43474",
   "metadata": {},
   "outputs": [
    {
     "name": "stdout",
     "output_type": "stream",
     "text": [
      "Locations where the word 'fox' occurs:\n",
      "Start: 16, End: 19\n"
     ]
    }
   ],
   "source": [
    "import re               #16\n",
    "\n",
    "def search_literals_with_location(text, searched_word):\n",
    "    pattern = re.compile(re.escape(searched_word))\n",
    "    matches = pattern.finditer(text)\n",
    "    locations = []\n",
    "\n",
    "    for match in matches:\n",
    "        start = match.start()\n",
    "        end = match.end()\n",
    "        locations.append((start, end))\n",
    "\n",
    "    return locations\n",
    "\n",
    "# Example usage\n",
    "sample_text = 'The quick brown fox jumps over the lazy dog.'\n",
    "searched_word = 'fox'\n",
    "\n",
    "locations = search_literals_with_location(sample_text, searched_word)\n",
    "\n",
    "print(\"Locations where the word '{}' occurs:\".format(searched_word))\n",
    "for location in locations:\n",
    "    start, end = location\n",
    "    print(\"Start: {}, End: {}\".format(start, end))"
   ]
  },
  {
   "cell_type": "code",
   "execution_count": 59,
   "id": "39713ae8",
   "metadata": {},
   "outputs": [
    {
     "name": "stdout",
     "output_type": "stream",
     "text": [
      "Substrings found:\n",
      "exercises\n",
      "exercises\n",
      "exercises\n"
     ]
    }
   ],
   "source": [
    "import re     #17\n",
    "\n",
    "def find_substrings(text, pattern):\n",
    "    matches = re.findall(pattern, text)\n",
    "    return matches\n",
    "\n",
    "# Example usage\n",
    "sample_text = 'Python exercises, PHP exercises, C# exercises'\n",
    "pattern = 'exercises'\n",
    "\n",
    "substrings = find_substrings(sample_text, pattern)\n",
    "\n",
    "print(\"Substrings found:\")\n",
    "for substring in substrings:\n",
    "    print(substring)"
   ]
  },
  {
   "cell_type": "code",
   "execution_count": 60,
   "id": "cd01f7e4",
   "metadata": {},
   "outputs": [
    {
     "name": "stdout",
     "output_type": "stream",
     "text": [
      "Occurrences and positions of the substring:\n",
      "Substring: 'exercises' Position: 7\n",
      "Substring: 'exercises' Position: 22\n",
      "Substring: 'exercises' Position: 36\n"
     ]
    }
   ],
   "source": [
    "def find_substring_occurrences(text, substring):   #18\n",
    "    occurrences = []\n",
    "    start = 0\n",
    "\n",
    "    while True:\n",
    "        index = text.find(substring, start)\n",
    "        if index == -1:\n",
    "            break\n",
    "        occurrences.append((substring, index))\n",
    "        start = index + 1\n",
    "\n",
    "    return occurrences\n",
    "\n",
    "# Example usage\n",
    "sample_text = 'Python exercises, PHP exercises, C# exercises'\n",
    "substring = 'exercises'\n",
    "\n",
    "occurrences = find_substring_occurrences(sample_text, substring)\n",
    "\n",
    "print(\"Occurrences and positions of the substring:\")\n",
    "for substring, position in occurrences:\n",
    "    print(\"Substring: '{}' Position: {}\".format(substring, position))\n"
   ]
  },
  {
   "cell_type": "code",
   "execution_count": 62,
   "id": "deeb2eab",
   "metadata": {},
   "outputs": [
    {
     "name": "stdout",
     "output_type": "stream",
     "text": [
      "Converted date: 13-07-2022\n"
     ]
    }
   ],
   "source": [
    "def convert_date_format(date):      #19\n",
    "    parts = date.split('-')\n",
    "    converted_date = parts[2] + '-' + parts[1] + '-' + parts[0]\n",
    "    return converted_date\n",
    "\n",
    "# Example usage\n",
    "date = '2022-07-13'\n",
    "converted_date = convert_date_format(date)\n",
    "print(\"Converted date:\", converted_date)"
   ]
  },
  {
   "cell_type": "code",
   "execution_count": 63,
   "id": "079e50d5",
   "metadata": {},
   "outputs": [
    {
     "name": "stdout",
     "output_type": "stream",
     "text": [
      "Words starting with 'a' or 'e':\n",
      "Apple\n",
      "elephant\n",
      "ant\n",
      "eagle\n"
     ]
    }
   ],
   "source": [
    "import re                 #20\n",
    "\n",
    "def find_words_starting_with_a_or_e(input_string):\n",
    "    pattern = r'\\b[aeAE]\\w+\\b'\n",
    "    matches = re.findall(pattern, input_string)\n",
    "    return matches\n",
    "\n",
    "# Example usage\n",
    "sample_string = \"Apple, elephant, ant, banana, eagle\"\n",
    "words = find_words_starting_with_a_or_e(sample_string)\n",
    "\n",
    "print(\"Words starting with 'a' or 'e':\")\n",
    "for word in words:\n",
    "    print(word)"
   ]
  },
  {
   "cell_type": "code",
   "execution_count": 65,
   "id": "0ac08c09",
   "metadata": {},
   "outputs": [
    {
     "name": "stdout",
     "output_type": "stream",
     "text": [
      "Numbers and their positions:\n",
      "Number: 123, Position: 6\n",
      "Number: 456, Position: 16\n"
     ]
    }
   ],
   "source": [
    "import re                  #21\n",
    "\n",
    "def separate_numbers_with_position(input_string):\n",
    "    pattern = r'\\d+'\n",
    "    matches = re.finditer(pattern, input_string)\n",
    "    numbers = []\n",
    "\n",
    "    for match in matches:\n",
    "        number = match.group()\n",
    "        position = match.start()\n",
    "        numbers.append((number, position))\n",
    "\n",
    "    return numbers\n",
    "\n",
    "# Example usage\n",
    "sample_string = \"Hello 123 World 456\"\n",
    "numbers_with_position = separate_numbers_with_position(sample_string)\n",
    "\n",
    "print(\"Numbers and their positions:\")\n",
    "for number, position in numbers_with_position:\n",
    "    print(\"Number: {}, Position: {}\".format(number, position))\n"
   ]
  },
  {
   "cell_type": "code",
   "execution_count": 70,
   "id": "70c8f933",
   "metadata": {},
   "outputs": [
    {
     "name": "stdout",
     "output_type": "stream",
     "text": [
      "Maximum numeric value: 99\n"
     ]
    }
   ],
   "source": [
    "def extract_maximum_numeric_value(input_string):     #22\n",
    "    pattern = r'\\d+'\n",
    "    numbers = re.findall(pattern, input_string)\n",
    "    if numbers:\n",
    "        maximum_value = max(map(int, numbers))\n",
    "        return maximum_value\n",
    "    else:\n",
    "        return None\n",
    "\n",
    "# Example usage\n",
    "sample_string = \"The numbers are 42, 56, and 99.\"\n",
    "maximum_value = extract_maximum_numeric_value(sample_string)\n",
    "\n",
    "if maximum_value is not None:\n",
    "    print(\"Maximum numeric value:\", maximum_value)\n",
    "else:\n",
    "    print(\"No numeric values found in the string.\")"
   ]
  },
  {
   "cell_type": "code",
   "execution_count": 67,
   "id": "23243599",
   "metadata": {},
   "outputs": [
    {
     "name": "stdout",
     "output_type": "stream",
     "text": [
      "Result: Hello World This Is An Example\n"
     ]
    }
   ],
   "source": [
    "import re                    #23\n",
    "\n",
    "\n",
    "def put_spaces_between_words(input_string):\n",
    "    pattern = r'([a-z])([A-Z])'\n",
    "    result = re.sub(pattern, r'\\1 \\2', input_string)\n",
    "    return result\n",
    "\n",
    "# Example usage\n",
    "sample_string = \"HelloWorldThisIsAnExample\"\n",
    "result_string = put_spaces_between_words(sample_string)\n",
    "\n",
    "print(\"Result:\", result_string)"
   ]
  },
  {
   "cell_type": "code",
   "execution_count": 68,
   "id": "2e9c654c",
   "metadata": {},
   "outputs": [
    {
     "name": "stdout",
     "output_type": "stream",
     "text": [
      "Sequences found:\n",
      "This\n",
      "Example\n",
      "String\n",
      "Multiple\n",
      "Sequences\n",
      "Uppercase\n",
      "Letters\n"
     ]
    }
   ],
   "source": [
    "def find_sequences_of_uppercase_letters(input_string):    #24\n",
    "    \n",
    "    pattern = r'[A-Z][a-z]+'\n",
    "    matches = re.findall(pattern, input_string)\n",
    "    return matches\n",
    "\n",
    "# Example usage\n",
    "sample_string = \"This is an ExampleString with MultipleSequences of UppercaseLetters\"\n",
    "sequences = find_sequences_of_uppercase_letters(sample_string)\n",
    "\n",
    "print(\"Sequences found:\")\n",
    "for sequence in sequences:\n",
    "    print(sequence)"
   ]
  },
  {
   "cell_type": "code",
   "execution_count": 69,
   "id": "1275d1da",
   "metadata": {},
   "outputs": [
    {
     "name": "stdout",
     "output_type": "stream",
     "text": [
      "Result: This is a test sentence for removing duplicate words.\n"
     ]
    }
   ],
   "source": [
    "\n",
    "def remove_duplicate_words(input_sentence):    #25\n",
    "    \n",
    "    pattern = r'\\b(\\w+)\\b\\s+(?=.*\\b\\1\\b)'\n",
    "    result = re.sub(pattern, '', input_sentence)\n",
    "    return result\n",
    "\n",
    "# Example usage\n",
    "sample_sentence = \"This is is a test sentence for removing duplicate duplicate words words.\"\n",
    "result_sentence = remove_duplicate_words(sample_sentence)\n",
    "\n",
    "print(\"Result:\", result_sentence)"
   ]
  },
  {
   "cell_type": "code",
   "execution_count": 6,
   "id": "fdb8782e",
   "metadata": {},
   "outputs": [
    {
     "name": "stdout",
     "output_type": "stream",
     "text": [
      "The string ends with an alphanumeric character.\n"
     ]
    }
   ],
   "source": [
    "import re                #26\n",
    "\n",
    "def check_string_ending_with_alphanumeric(input_string):\n",
    "    pattern = r'^.*[a-zA-Z0-9]$'\n",
    "    match = re.match(pattern, input_string)\n",
    "    if match:\n",
    "        return True\n",
    "    else:\n",
    "        return False\n",
    "\n",
    "# Example usage\n",
    "sample_string = \"HelloWorld123\"\n",
    "result = check_string_ending_with_alphanumeric(sample_string)\n",
    "\n",
    "if result:\n",
    "    print(\"The string ends with an alphanumeric character.\")\n",
    "else:\n",
    "    print(\"The string does not end with an alphanumeric character.\")"
   ]
  },
  {
   "cell_type": "code",
   "execution_count": 7,
   "id": "02d1de54",
   "metadata": {},
   "outputs": [
    {
     "name": "stdout",
     "output_type": "stream",
     "text": [
      "Extracted hashtags:\n",
      "#Doltiwal\n",
      "#xyzabc\n",
      "#Demonetization\n"
     ]
    }
   ],
   "source": [
    "def extract_hashtags(input_text):              #27\n",
    "    pattern = r'#\\w+'\n",
    "    hashtags = re.findall(pattern, input_text)\n",
    "    return hashtags\n",
    "\n",
    "# Example usage\n",
    "sample_text = 'RT @kapil_kausik: #Doltiwal I mean #xyzabc is \"hurt\" by #Demonetization as the same has rendered USELESS <ed><U+00A0><U+00BD><ed><U+00B1><U+0089> \"acquired funds\" No wo'\n",
    "hashtags = extract_hashtags(sample_text)\n",
    "\n",
    "print(\"Extracted hashtags:\")\n",
    "for hashtag in hashtags:\n",
    "    print(hashtag)"
   ]
  },
  {
   "cell_type": "code",
   "execution_count": 8,
   "id": "2e6f0a9d",
   "metadata": {},
   "outputs": [
    {
     "name": "stdout",
     "output_type": "stream",
     "text": [
      "Cleaned text:\n",
      "@radha123456 Bharat band on 28??<ed><ed>Those who are protesting #demonetization are all different party leaders\n"
     ]
    }
   ],
   "source": [
    "\n",
    "def remove_symbols(input_text):                   #28\n",
    "    pattern = r'<U\\+\\w+>'\n",
    "    result = re.sub(pattern, '', input_text)\n",
    "    return result\n",
    "\n",
    "# Example usage\n",
    "sample_text = \"@radha123456 Bharat band on 28??<ed><U+00A0><U+00BD><ed><U+00B8><U+0082>Those who are protesting #demonetization are all different party leaders\"\n",
    "cleaned_text = remove_symbols(sample_text)\n",
    "\n",
    "print(\"Cleaned text:\")\n",
    "print(cleaned_text)"
   ]
  },
  {
   "cell_type": "code",
   "execution_count": 9,
   "id": "167c945a",
   "metadata": {},
   "outputs": [
    {
     "name": "stdout",
     "output_type": "stream",
     "text": [
      "Replaced string: Hello::world::This:is:a:sample:string:\n"
     ]
    }
   ],
   "source": [
    "def replace_space_comma_dot_with_colon(input_string):            #30\n",
    "    replaced_string = input_string.replace(' ', ':').replace(',', ':').replace('.', ':')\n",
    "    return replaced_string\n",
    "\n",
    "# Example usage\n",
    "sample_string = \"Hello, world. This is a sample string.\"\n",
    "replaced_string = replace_space_comma_dot_with_colon(sample_string)\n",
    "\n",
    "print(\"Replaced string:\", replaced_string)"
   ]
  },
  {
   "cell_type": "code",
   "execution_count": 12,
   "id": "25d2ceea",
   "metadata": {},
   "outputs": [
    {
     "name": "stdout",
     "output_type": "stream",
     "text": [
      "Python:Exercises::PHP:exercises:\n"
     ]
    }
   ],
   "source": [
    "def replace_spaces_commas_dots_with_colon(text):  #29\n",
    "    # Replace spaces, commas, and dots with a colon\n",
    "    text = text.replace(' ', ':').replace(',', ':').replace('.', ':')\n",
    "\n",
    "    return text\n",
    "\n",
    "# Sample text\n",
    "text = 'Python Exercises, PHP exercises.'\n",
    "\n",
    "# Replace spaces, commas, and dots with a colon\n",
    "new_text = replace_spaces_commas_dots_with_colon(text)\n",
    "\n",
    "# Print the new text\n",
    "print(new_text)"
   ]
  },
  {
   "cell_type": "code",
   "execution_count": null,
   "id": "abf196fa",
   "metadata": {},
   "outputs": [],
   "source": []
  }
 ],
 "metadata": {
  "kernelspec": {
   "display_name": "Python 3 (ipykernel)",
   "language": "python",
   "name": "python3"
  },
  "language_info": {
   "codemirror_mode": {
    "name": "ipython",
    "version": 3
   },
   "file_extension": ".py",
   "mimetype": "text/x-python",
   "name": "python",
   "nbconvert_exporter": "python",
   "pygments_lexer": "ipython3",
   "version": "3.9.13"
  }
 },
 "nbformat": 4,
 "nbformat_minor": 5
}
